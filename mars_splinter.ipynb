{
 "cells": [
  {
   "cell_type": "code",
   "execution_count": null,
   "metadata": {},
   "outputs": [],
   "source": [
    "# import dependencies\n",
    "from bs4 import BeautifulSoup\n",
    "from splinter import Browser\n",
    "import requests\n",
    "import pandas as pd\n",
    "import pymongo\n",
    "import time\n",
    "import datetime as dt"
   ]
  },
  {
   "cell_type": "code",
   "execution_count": null,
   "metadata": {},
   "outputs": [],
   "source": [
    "# Initialize browser\n",
    "executable_path = {'executable_path': 'chromedriver'}\n",
    "browser = Browser('chrome', **executable_path, headless=False)"
   ]
  },
  {
   "cell_type": "code",
   "execution_count": null,
   "metadata": {},
   "outputs": [],
   "source": [
    "# URL of page to be scraped - NASA Mars News Site \n",
    "nasa_url = 'https://mars.nasa.gov/news/'\n",
    "browser.visit(nasa_url)\n",
    "time.sleep(5)"
   ]
  },
  {
   "cell_type": "code",
   "execution_count": null,
   "metadata": {},
   "outputs": [],
   "source": [
    "# Create BeautifulSoup object; parse with 'html.parser'\n",
    "html = browser.html\n",
    "soup_nasa = BeautifulSoup(html, 'html.parser')"
   ]
  },
  {
   "cell_type": "code",
   "execution_count": null,
   "metadata": {},
   "outputs": [],
   "source": [
    "# Collect the latest News Title from NASA Mars News Site\n",
    "news_info = []\n",
    "  \n",
    "news_title = soup_nasa.find('div', class_='content_title').find('a').text\n",
    "news_title"
   ]
  },
  {
   "cell_type": "code",
   "execution_count": null,
   "metadata": {},
   "outputs": [],
   "source": [
    "# Latest news paragraph text from NASA Mars News Site\n",
    "news_p = soup_nasa.find('div', class_='article_teaser_body').text\n",
    "news_p"
   ]
  },
  {
   "cell_type": "code",
   "execution_count": null,
   "metadata": {},
   "outputs": [],
   "source": [
    "# Append the retreived information into a list of dictionaries \n",
    "news_info.append({\"news_title\" : news_title, \"news Paragraph\" : news_p})\n",
    "news_info"
   ]
  },
  {
   "cell_type": "code",
   "execution_count": null,
   "metadata": {},
   "outputs": [],
   "source": [
    "# URL of page to be scraped for featured image - JPL Mars Space Images\n",
    "jpl_url_image = 'https://www.jpl.nasa.gov/spaceimages/?search=&category=Mars'\n",
    "browser.visit(jpl_url_image)\n",
    "time.sleep(5)"
   ]
  },
  {
   "cell_type": "code",
   "execution_count": null,
   "metadata": {},
   "outputs": [],
   "source": [
    "# Browse through the page\n",
    "# Find the image url for the current Featured Mars and click the full image button\n",
    "featured_full_image = browser.find_by_id('full_image')\n",
    "featured_full_image.click()"
   ]
  },
  {
   "cell_type": "code",
   "execution_count": null,
   "metadata": {},
   "outputs": [],
   "source": [
    "# Browse through the page\n",
    "time.sleep(5)\n",
    "\n",
    "# Find the more info button and click\n",
    "more_info_images = browser.find_link_by_partial_text('more info')\n",
    "more_info_images.click()"
   ]
  },
  {
   "cell_type": "code",
   "execution_count": null,
   "metadata": {},
   "outputs": [],
   "source": [
    "# Using BeautifulSoup create an object and parse with 'html.parser'\n",
    "html = browser.html\n",
    "image_soup = BeautifulSoup(html, 'html.parser')"
   ]
  },
  {
   "cell_type": "code",
   "execution_count": null,
   "metadata": {},
   "outputs": [],
   "source": [
    "# find the related image url\n",
    "image_url = image_soup.find('figure', class_='lede').find('img')['src']\n",
    "image_url"
   ]
  },
  {
   "cell_type": "code",
   "execution_count": null,
   "metadata": {},
   "outputs": [],
   "source": [
    "# Use the base url to create an full url\n",
    "JPL_link = 'https://www.jpl.nasa.gov'\n",
    "featured_image_url = JPL_link + image_url\n",
    "featured_image_url"
   ]
  },
  {
   "cell_type": "code",
   "execution_count": null,
   "metadata": {},
   "outputs": [],
   "source": [
    "# URL of page to be scraped - Mars Weather\n",
    "mars_twitter_url = 'https://twitter.com/marswxreport?lang=en'\n",
    "browser.visit(mars_twitter_url)\n",
    "time.sleep(5)"
   ]
  },
  {
   "cell_type": "code",
   "execution_count": null,
   "metadata": {},
   "outputs": [],
   "source": [
    "# Create BeautifulSoup object; parse with 'html.parser'\n",
    "html_weather = browser.html\n",
    "\n",
    "mars_soup = BeautifulSoup(html_weather, 'html.parser')"
   ]
  },
  {
   "cell_type": "code",
   "execution_count": null,
   "metadata": {},
   "outputs": [],
   "source": [
    "# Find all elements that contain tweets\n",
    "latest_tweets = mars_soup.find_all('div', class_='js-tweet-text-container')\n",
    "latest_tweets"
   ]
  },
  {
   "cell_type": "code",
   "execution_count": null,
   "metadata": {},
   "outputs": [],
   "source": [
    "\n",
    "# Loop through latest_tweets to extract for the weather report\n",
    "\n",
    "for tweet in latest_tweets: \n",
    "    \n",
    "    weather_tweet = tweet.find('p').text\n",
    "    \n",
    "    if 'Sol' and 'pressure' in weather_tweet:\n",
    "        \n",
    "        print(weather_tweet)\n",
    "        \n",
    "        break\n",
    "        \n",
    "    else: \n",
    "        \n",
    "        pass"
   ]
  },
  {
   "cell_type": "code",
   "execution_count": null,
   "metadata": {},
   "outputs": [],
   "source": [
    "latest_weather_tweet = weather_tweet.split(\"hPa\")[0]+\"hPa\"\n",
    "print(latest_weather_tweet)"
   ]
  },
  {
   "cell_type": "code",
   "execution_count": null,
   "metadata": {},
   "outputs": [],
   "source": [
    "# URL of page to be scraped - Mars Facts\n",
    "mars_facts_url = 'http://space-facts.com/mars/'\n",
    "browser.visit(mars_facts_url)\n",
    "time.sleep(5)"
   ]
  },
  {
   "cell_type": "code",
   "execution_count": null,
   "metadata": {},
   "outputs": [],
   "source": [
    "# Use Panda's `read_html` to parse the url\n",
    "#mars_facts = pd.read_html(mars_facts_url)\n",
    "mars_facts = pd.read_html(browser.html)\n",
    "mars_facts"
   ]
  },
  {
   "cell_type": "code",
   "execution_count": null,
   "metadata": {},
   "outputs": [],
   "source": [
    "# Find the mars facts DataFrame in the list of DataFrames \n",
    "mars_df = mars_facts[1]\n",
    "mars_df"
   ]
  },
  {
   "cell_type": "code",
   "execution_count": null,
   "metadata": {},
   "outputs": [],
   "source": [
    "# Set columns to ['Description', 'Value']\n",
    "mars_df.columns = ['Description', 'Value']\n",
    "mars_df"
   ]
  },
  {
   "cell_type": "code",
   "execution_count": null,
   "metadata": {},
   "outputs": [],
   "source": [
    "# Set the index to the `Description` column without row indexing\n",
    "mars_df.set_index('Description', inplace=True)"
   ]
  },
  {
   "cell_type": "code",
   "execution_count": null,
   "metadata": {},
   "outputs": [],
   "source": [
    "# Use pandas to generate Html Tables from dataframes and save as html file\n",
    "mars_fact_table = mars_df.to_html('mars_fact_table.html')\n",
    "mars_fact_table"
   ]
  },
  {
   "cell_type": "code",
   "execution_count": null,
   "metadata": {},
   "outputs": [],
   "source": [
    "# URL of page to be scraped - Mars Hemispheres\n",
    "hemispheres_url = 'https://astrogeology.usgs.gov/search/results?q=hemisphere+enhanced&k1=target&v1=Mars'\n",
    "browser.visit(hemispheres_url)\n",
    "time.sleep(5)"
   ]
  },
  {
   "cell_type": "code",
   "execution_count": null,
   "metadata": {},
   "outputs": [],
   "source": [
    "# Create BeautifulSoup object; parse with 'html.parser'\n",
    "html_hemispheres = browser.html\n",
    "\n",
    "# Parse HTML with Beautiful Soup\n",
    "hemispheres_soup = BeautifulSoup(html_hemispheres, 'html.parser')"
   ]
  },
  {
   "cell_type": "code",
   "execution_count": null,
   "metadata": {},
   "outputs": [],
   "source": [
    "# Retreive all items that contain mars hemispheres information\n",
    "items = hemispheres_soup.find_all('div', class_='item')\n",
    "\n",
    "# Create an empty list to hold dictionaries of hemisphere title with the image url string\n",
    "hemisphere_image_urls = []\n",
    "\n",
    "# Store the main_ul \n",
    "hemispheres_main_url = 'https://astrogeology.usgs.gov'"
   ]
  },
  {
   "cell_type": "code",
   "execution_count": null,
   "metadata": {},
   "outputs": [],
   "source": [
    "# Loop through the items previously stored\n",
    "for item in items: \n",
    "    # Store title\n",
    "    title = item.find('h3').text\n",
    "    \n",
    "    # Store link that leads to full image website\n",
    "    partial_img_url = item.find('a', class_='itemLink product-item')['href']\n",
    "    \n",
    "    # Visit the link that contains the full image website \n",
    "    browser.visit(hemispheres_main_url + partial_img_url)\n",
    "    \n",
    "    # HTML Object of individual hemisphere information website \n",
    "    partial_img_html = browser.html\n",
    "    \n",
    "    # Parse HTML with Beautiful Soup for every individual hemisphere information website \n",
    "    individual_soup = BeautifulSoup( partial_img_html, 'html.parser')\n",
    "    \n",
    "    # Retrieve full image source \n",
    "    img_url = hemispheres_main_url + individual_soup.find('img', class_='wide-image')['src']\n",
    "    \n",
    "    # Append the retreived information into a list of dictionaries \n",
    "    hemi_urls = {\"title\" : title, \"img_url\" : img_url}\n",
    "    #hemisphere_image_urls.append({\"title\" : title, \"img_url\" : img_url})\n",
    "    \n",
    "    # Append the retreived information \n",
    "    hemisphere_image_urls.append(hemi_urls)\n",
    "\n",
    "# Display hemisphere_image_urls\n",
    "hemisphere_image_urls"
   ]
  },
  {
   "cell_type": "code",
   "execution_count": null,
   "metadata": {},
   "outputs": [],
   "source": []
  }
 ],
 "metadata": {
  "kernelspec": {
   "display_name": "Python 3",
   "language": "python",
   "name": "python3"
  },
  "language_info": {
   "codemirror_mode": {
    "name": "ipython",
    "version": 3
   },
   "file_extension": ".py",
   "mimetype": "text/x-python",
   "name": "python",
   "nbconvert_exporter": "python",
   "pygments_lexer": "ipython3",
   "version": "3.7.4"
  }
 },
 "nbformat": 4,
 "nbformat_minor": 2
}
